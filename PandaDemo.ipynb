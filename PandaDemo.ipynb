{
 "cells": [
  {
   "cell_type": "code",
   "execution_count": 1,
   "id": "739e3b21",
   "metadata": {},
   "outputs": [],
   "source": [
    "import pandas as pd"
   ]
  },
  {
   "cell_type": "code",
   "execution_count": 2,
   "id": "b6367fe6",
   "metadata": {},
   "outputs": [
    {
     "name": "stdout",
     "output_type": "stream",
     "text": [
      "   student  addmission\n",
      "0    Vivek        2022\n",
      "1    Sanil        2023\n",
      "2   Gaurav        2024\n",
      "3  Chauhan        2025\n"
     ]
    }
   ],
   "source": [
    "dataset={ 'student':['Vivek','Sanil','Gaurav','Chauhan'],\n",
    "        'addmission':[2022,2023,2024,2025]}\n",
    "demo=pd.DataFrame(dataset)\n",
    "print(demo)"
   ]
  },
  {
   "cell_type": "code",
   "execution_count": 3,
   "id": "56fb6bd4",
   "metadata": {},
   "outputs": [
    {
     "name": "stdout",
     "output_type": "stream",
     "text": [
      "1.4.2\n"
     ]
    }
   ],
   "source": [
    "print(pd.__version__)"
   ]
  },
  {
   "cell_type": "code",
   "execution_count": 4,
   "id": "a4fef8a8",
   "metadata": {},
   "outputs": [
    {
     "name": "stdout",
     "output_type": "stream",
     "text": [
      "0    100\n",
      "1    200\n",
      "2    300\n",
      "3    400\n",
      "dtype: int64\n",
      "300\n"
     ]
    }
   ],
   "source": [
    "a=[100,200,300,400]\n",
    "demo1=pd.Series(a)\n",
    "print(demo1)\n",
    "print(demo1[2])"
   ]
  },
  {
   "cell_type": "code",
   "execution_count": 5,
   "id": "2daacc82",
   "metadata": {},
   "outputs": [
    {
     "name": "stdout",
     "output_type": "stream",
     "text": [
      "m1    100\n",
      "m2    200\n",
      "m3    300\n",
      "m4    400\n",
      "dtype: int64\n"
     ]
    }
   ],
   "source": [
    "demo2=pd.Series(a,index=[\"m1\",\"m2\",\"m3\",\"m4\"])\n",
    "print(demo2)"
   ]
  },
  {
   "cell_type": "code",
   "execution_count": 6,
   "id": "29d33df4",
   "metadata": {},
   "outputs": [
    {
     "name": "stdout",
     "output_type": "stream",
     "text": [
      "200\n"
     ]
    }
   ],
   "source": [
    "print(demo2[\"m2\"])"
   ]
  },
  {
   "cell_type": "code",
   "execution_count": 7,
   "id": "58b6e639",
   "metadata": {},
   "outputs": [
    {
     "name": "stdout",
     "output_type": "stream",
     "text": [
      "Car             Mastang GT\n",
      "House         Big Menstion\n",
      "Travel    Across The World\n",
      "dtype: object\n"
     ]
    }
   ],
   "source": [
    "v1={\"Car\":\"Mastang GT\",\"House\":\"Big Menstion\",\"Travel\":\"Across The World\"}\n",
    "v1=pd.Series(v1)\n",
    "print(v1)"
   ]
  },
  {
   "cell_type": "code",
   "execution_count": 8,
   "id": "18326ead",
   "metadata": {},
   "outputs": [
    {
     "name": "stdout",
     "output_type": "stream",
     "text": [
      "Mastang GT\n"
     ]
    }
   ],
   "source": [
    "print(v1[\"Car\"])\n"
   ]
  },
  {
   "cell_type": "code",
   "execution_count": 9,
   "id": "2a7a1d9c",
   "metadata": {},
   "outputs": [
    {
     "name": "stdout",
     "output_type": "stream",
     "text": [
      "Travel    Across The World\n",
      "dtype: object\n"
     ]
    }
   ],
   "source": [
    "v2=pd.Series(v1,index=[\"Travel\"])\n",
    "print(v2)"
   ]
  },
  {
   "cell_type": "code",
   "execution_count": 10,
   "id": "74567571",
   "metadata": {},
   "outputs": [
    {
     "name": "stdout",
     "output_type": "stream",
     "text": [
      "Car             Mastang GT\n",
      "House         Big Menstion\n",
      "Travel    Across The World\n",
      "dtype: object\n"
     ]
    }
   ],
   "source": [
    "My_Goal={\"Car\":\"Mastang GT\",\"House\":\"Big Menstion\",\"Travel\":\"Across The World\"}\n",
    "My_Goal=pd.Series(My_Goal)\n",
    "print(My_Goal)"
   ]
  },
  {
   "cell_type": "code",
   "execution_count": 11,
   "id": "ec0cd0a9",
   "metadata": {},
   "outputs": [
    {
     "name": "stdout",
     "output_type": "stream",
     "text": [
      "     product  price\n",
      "0  chocolate     50\n",
      "1       puff     20\n",
      "2     wafers     10\n"
     ]
    }
   ],
   "source": [
    "data={\"product\":[\"chocolate\",\"puff\",\"wafers\"],\n",
    "      \"price\":[50,20,10]}\n",
    "dataFr=pd.DataFrame(data)\n",
    "print(dataFr)"
   ]
  },
  {
   "cell_type": "code",
   "execution_count": 12,
   "id": "f25ec7e2",
   "metadata": {},
   "outputs": [
    {
     "name": "stdout",
     "output_type": "stream",
     "text": [
      "product    chocolate\n",
      "price             50\n",
      "Name: 0, dtype: object\n"
     ]
    }
   ],
   "source": [
    "print(dataFr.loc[0])"
   ]
  },
  {
   "cell_type": "code",
   "execution_count": 13,
   "id": "fd90b200",
   "metadata": {},
   "outputs": [
    {
     "name": "stdout",
     "output_type": "stream",
     "text": [
      "   Roll No     Name  Total marks  Achived\n",
      "0        1    Vivek          500      499\n",
      "1        2    Sanil          500      493\n",
      "2        3   Gaurav          500      492\n",
      "3        4    Parth          500      494\n",
      "4        5  Prabhat          500      500\n",
      "5        6  Pruthvi          500      495\n"
     ]
    }
   ],
   "source": [
    "StMarks=pd.read_csv('Marks.csv')\n",
    "print(StMarks)"
   ]
  },
  {
   "cell_type": "code",
   "execution_count": 14,
   "id": "136a4684",
   "metadata": {},
   "outputs": [
    {
     "name": "stdout",
     "output_type": "stream",
     "text": [
      "60\n"
     ]
    }
   ],
   "source": [
    "print(pd.options.display.max_rows)\n"
   ]
  },
  {
   "cell_type": "code",
   "execution_count": 15,
   "id": "7b6b8668",
   "metadata": {},
   "outputs": [
    {
     "data": {
      "text/html": [
       "<div>\n",
       "<style scoped>\n",
       "    .dataframe tbody tr th:only-of-type {\n",
       "        vertical-align: middle;\n",
       "    }\n",
       "\n",
       "    .dataframe tbody tr th {\n",
       "        vertical-align: top;\n",
       "    }\n",
       "\n",
       "    .dataframe thead th {\n",
       "        text-align: right;\n",
       "    }\n",
       "</style>\n",
       "<table border=\"1\" class=\"dataframe\">\n",
       "  <thead>\n",
       "    <tr style=\"text-align: right;\">\n",
       "      <th></th>\n",
       "      <th>Roll No</th>\n",
       "      <th>Name</th>\n",
       "      <th>Total marks</th>\n",
       "      <th>Achived</th>\n",
       "    </tr>\n",
       "  </thead>\n",
       "  <tbody>\n",
       "    <tr>\n",
       "      <th>0</th>\n",
       "      <td>1</td>\n",
       "      <td>Vivek</td>\n",
       "      <td>500</td>\n",
       "      <td>499</td>\n",
       "    </tr>\n",
       "    <tr>\n",
       "      <th>1</th>\n",
       "      <td>2</td>\n",
       "      <td>Sanil</td>\n",
       "      <td>500</td>\n",
       "      <td>493</td>\n",
       "    </tr>\n",
       "    <tr>\n",
       "      <th>...</th>\n",
       "      <td>...</td>\n",
       "      <td>...</td>\n",
       "      <td>...</td>\n",
       "      <td>...</td>\n",
       "    </tr>\n",
       "    <tr>\n",
       "      <th>4</th>\n",
       "      <td>5</td>\n",
       "      <td>Prabhat</td>\n",
       "      <td>500</td>\n",
       "      <td>500</td>\n",
       "    </tr>\n",
       "    <tr>\n",
       "      <th>5</th>\n",
       "      <td>6</td>\n",
       "      <td>Pruthvi</td>\n",
       "      <td>500</td>\n",
       "      <td>495</td>\n",
       "    </tr>\n",
       "  </tbody>\n",
       "</table>\n",
       "<p>6 rows × 4 columns</p>\n",
       "</div>"
      ],
      "text/plain": [
       "    Roll No     Name  Total marks  Achived\n",
       "0         1    Vivek          500      499\n",
       "1         2    Sanil          500      493\n",
       "..      ...      ...          ...      ...\n",
       "4         5  Prabhat          500      500\n",
       "5         6  Pruthvi          500      495\n",
       "\n",
       "[6 rows x 4 columns]"
      ]
     },
     "execution_count": 15,
     "metadata": {},
     "output_type": "execute_result"
    }
   ],
   "source": [
    "pd.options.display.max_rows=4\n",
    "stud_marks=pd.read_csv('Marks.csv')\n",
    "(stud_marks)\n"
   ]
  },
  {
   "cell_type": "code",
   "execution_count": 18,
   "id": "adea2c9f",
   "metadata": {},
   "outputs": [
    {
     "name": "stdout",
     "output_type": "stream",
     "text": [
      "    Roll No     Name  Total marks  Achived\n",
      "0         1    Vivek          500      499\n",
      "1         2    Sanil          500      493\n",
      "..      ...      ...          ...      ...\n",
      "4         5  Prabhat          500      500\n",
      "5         6  Pruthvi          500      495\n",
      "\n",
      "[6 rows x 4 columns]\n"
     ]
    }
   ],
   "source": [
    "stu=pd.read_csv('Marks.csv')\n",
    "print(stu)"
   ]
  },
  {
   "cell_type": "code",
   "execution_count": 20,
   "id": "d769be0e",
   "metadata": {},
   "outputs": [
    {
     "data": {
      "text/html": [
       "<div>\n",
       "<style scoped>\n",
       "    .dataframe tbody tr th:only-of-type {\n",
       "        vertical-align: middle;\n",
       "    }\n",
       "\n",
       "    .dataframe tbody tr th {\n",
       "        vertical-align: top;\n",
       "    }\n",
       "\n",
       "    .dataframe thead th {\n",
       "        text-align: right;\n",
       "    }\n",
       "</style>\n",
       "<table border=\"1\" class=\"dataframe\">\n",
       "  <thead>\n",
       "    <tr style=\"text-align: right;\">\n",
       "      <th></th>\n",
       "      <th>Roll No</th>\n",
       "      <th>Name</th>\n",
       "      <th>Total marks</th>\n",
       "      <th>Achived</th>\n",
       "    </tr>\n",
       "  </thead>\n",
       "  <tbody>\n",
       "    <tr>\n",
       "      <th>0</th>\n",
       "      <td>1</td>\n",
       "      <td>Vivek</td>\n",
       "      <td>500</td>\n",
       "      <td>499</td>\n",
       "    </tr>\n",
       "    <tr>\n",
       "      <th>1</th>\n",
       "      <td>2</td>\n",
       "      <td>Sanil</td>\n",
       "      <td>500</td>\n",
       "      <td>493</td>\n",
       "    </tr>\n",
       "    <tr>\n",
       "      <th>...</th>\n",
       "      <td>...</td>\n",
       "      <td>...</td>\n",
       "      <td>...</td>\n",
       "      <td>...</td>\n",
       "    </tr>\n",
       "    <tr>\n",
       "      <th>3</th>\n",
       "      <td>4</td>\n",
       "      <td>Parth</td>\n",
       "      <td>500</td>\n",
       "      <td>494</td>\n",
       "    </tr>\n",
       "    <tr>\n",
       "      <th>4</th>\n",
       "      <td>5</td>\n",
       "      <td>Prabhat</td>\n",
       "      <td>500</td>\n",
       "      <td>500</td>\n",
       "    </tr>\n",
       "  </tbody>\n",
       "</table>\n",
       "<p>5 rows × 4 columns</p>\n",
       "</div>"
      ],
      "text/plain": [
       "    Roll No     Name  Total marks  Achived\n",
       "0         1    Vivek          500      499\n",
       "1         2    Sanil          500      493\n",
       "..      ...      ...          ...      ...\n",
       "3         4    Parth          500      494\n",
       "4         5  Prabhat          500      500\n",
       "\n",
       "[5 rows x 4 columns]"
      ]
     },
     "execution_count": 20,
     "metadata": {},
     "output_type": "execute_result"
    }
   ],
   "source": [
    "(stu.head())"
   ]
  },
  {
   "cell_type": "code",
   "execution_count": 22,
   "id": "adff134f",
   "metadata": {},
   "outputs": [
    {
     "data": {
      "text/html": [
       "<div>\n",
       "<style scoped>\n",
       "    .dataframe tbody tr th:only-of-type {\n",
       "        vertical-align: middle;\n",
       "    }\n",
       "\n",
       "    .dataframe tbody tr th {\n",
       "        vertical-align: top;\n",
       "    }\n",
       "\n",
       "    .dataframe thead th {\n",
       "        text-align: right;\n",
       "    }\n",
       "</style>\n",
       "<table border=\"1\" class=\"dataframe\">\n",
       "  <thead>\n",
       "    <tr style=\"text-align: right;\">\n",
       "      <th></th>\n",
       "      <th>Roll No</th>\n",
       "      <th>Name</th>\n",
       "      <th>Total marks</th>\n",
       "      <th>Achived</th>\n",
       "    </tr>\n",
       "  </thead>\n",
       "  <tbody>\n",
       "    <tr>\n",
       "      <th>1</th>\n",
       "      <td>2</td>\n",
       "      <td>Sanil</td>\n",
       "      <td>500</td>\n",
       "      <td>493</td>\n",
       "    </tr>\n",
       "    <tr>\n",
       "      <th>2</th>\n",
       "      <td>3</td>\n",
       "      <td>Gaurav</td>\n",
       "      <td>500</td>\n",
       "      <td>492</td>\n",
       "    </tr>\n",
       "    <tr>\n",
       "      <th>...</th>\n",
       "      <td>...</td>\n",
       "      <td>...</td>\n",
       "      <td>...</td>\n",
       "      <td>...</td>\n",
       "    </tr>\n",
       "    <tr>\n",
       "      <th>4</th>\n",
       "      <td>5</td>\n",
       "      <td>Prabhat</td>\n",
       "      <td>500</td>\n",
       "      <td>500</td>\n",
       "    </tr>\n",
       "    <tr>\n",
       "      <th>5</th>\n",
       "      <td>6</td>\n",
       "      <td>Pruthvi</td>\n",
       "      <td>500</td>\n",
       "      <td>495</td>\n",
       "    </tr>\n",
       "  </tbody>\n",
       "</table>\n",
       "<p>5 rows × 4 columns</p>\n",
       "</div>"
      ],
      "text/plain": [
       "    Roll No     Name  Total marks  Achived\n",
       "1         2    Sanil          500      493\n",
       "2         3   Gaurav          500      492\n",
       "..      ...      ...          ...      ...\n",
       "4         5  Prabhat          500      500\n",
       "5         6  Pruthvi          500      495\n",
       "\n",
       "[5 rows x 4 columns]"
      ]
     },
     "execution_count": 22,
     "metadata": {},
     "output_type": "execute_result"
    }
   ],
   "source": [
    "(stu.tail())\n"
   ]
  },
  {
   "cell_type": "code",
   "execution_count": 23,
   "id": "6848f46d",
   "metadata": {},
   "outputs": [
    {
     "name": "stdout",
     "output_type": "stream",
     "text": [
      "<class 'pandas.core.frame.DataFrame'>\n",
      "RangeIndex: 6 entries, 0 to 5\n",
      "Data columns (total 4 columns):\n",
      " #   Column       Non-Null Count  Dtype \n",
      "---  ------       --------------  ----- \n",
      " 0   Roll No      6 non-null      int64 \n",
      " 1   Name         6 non-null      object\n",
      " 2   Total marks  6 non-null      int64 \n",
      " 3   Achived      6 non-null      int64 \n",
      "dtypes: int64(3), object(1)\n",
      "memory usage: 320.0+ bytes\n",
      "None\n"
     ]
    }
   ],
   "source": [
    "print(stu.info())\n"
   ]
  },
  {
   "cell_type": "code",
   "execution_count": 24,
   "id": "9dd1dce3",
   "metadata": {},
   "outputs": [
    {
     "name": "stdout",
     "output_type": "stream",
     "text": [
      "    Roll No     Name  Total marks  Achived\n",
      "0         1    Vivek          500    499.0\n",
      "1         2    Sanil          500    493.0\n",
      "..      ...      ...          ...      ...\n",
      "4         5    Sonal          500      NaN\n",
      "5         6  Pruthvi          500      NaN\n",
      "\n",
      "[6 rows x 4 columns]\n"
     ]
    }
   ],
   "source": [
    "stu1=pd.read_csv('newmarks.csv')\n",
    "print(stu1)"
   ]
  },
  {
   "cell_type": "code",
   "execution_count": 25,
   "id": "cf45d3d2",
   "metadata": {},
   "outputs": [
    {
     "name": "stdout",
     "output_type": "stream",
     "text": [
      "   Roll No   Name  Total marks  Achived\n",
      "0        1  Vivek          500    499.0\n",
      "1        2  Sanil          500    493.0\n",
      "3        4  Parth          500    494.0\n"
     ]
    }
   ],
   "source": [
    "stu1=stu1.dropna() \n",
    "stu1.dropna(inplace=True)\n",
    "print(stu1)"
   ]
  },
  {
   "cell_type": "code",
   "execution_count": null,
   "id": "3254707a",
   "metadata": {},
   "outputs": [],
   "source": []
  }
 ],
 "metadata": {
  "kernelspec": {
   "display_name": "Python 3 (ipykernel)",
   "language": "python",
   "name": "python3"
  },
  "language_info": {
   "codemirror_mode": {
    "name": "ipython",
    "version": 3
   },
   "file_extension": ".py",
   "mimetype": "text/x-python",
   "name": "python",
   "nbconvert_exporter": "python",
   "pygments_lexer": "ipython3",
   "version": "3.9.12"
  }
 },
 "nbformat": 4,
 "nbformat_minor": 5
}
