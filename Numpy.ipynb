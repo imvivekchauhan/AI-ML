{
 "cells": [
  {
   "cell_type": "code",
   "execution_count": 1,
   "id": "88c030e3-f966-4c6c-8cbe-ee8242f9d700",
   "metadata": {},
   "outputs": [],
   "source": [
    "import numpy as np"
   ]
  },
  {
   "cell_type": "code",
   "execution_count": 2,
   "id": "c0361cc6-8d26-45af-b7b1-b0becca2d64d",
   "metadata": {},
   "outputs": [
    {
     "name": "stdout",
     "output_type": "stream",
     "text": [
      "shape a:(5,)\n",
      "ndim 1\n",
      "size 5\n",
      "dtype int64\n",
      "itemsize 8\n",
      "data <memory at 0x7f5a50590dc0>\n"
     ]
    }
   ],
   "source": [
    "a=np.array([1,2,3,4,5])\n",
    "b=np.array([2,3,4])\n",
    "\n",
    "print(\"shape a:{}\".format(a.shape))\n",
    "print(\"ndim {}\".format(a.ndim))\n",
    "print(\"size {}\".format(a.size))\n",
    "print(f\"dtype {a.dtype}\")\n",
    "print(f\"itemsize {a.itemsize}\")\n",
    "print(f\"data {a.data}\")"
   ]
  },
  {
   "cell_type": "code",
   "execution_count": 12,
   "id": "a7166dcf-1868-434d-a228-f4bd116c7f61",
   "metadata": {},
   "outputs": [
    {
     "name": "stdout",
     "output_type": "stream",
     "text": [
      "[[2 3]\n",
      " [1 4]]\n"
     ]
    }
   ],
   "source": [
    "a1=np.array([[2,3,4,5],\n",
    "             [1,4,7,6]])\n",
    "a2=np.array([[1,1,1],[1,1,1]])\n",
    "\n",
    "\n",
    "sliced_arr=a1[:2,:2]\n",
    "print(sliced_arr)\n"
   ]
  },
  {
   "cell_type": "code",
   "execution_count": 15,
   "id": "afc14819-9ff3-49d6-898e-aea43703df82",
   "metadata": {},
   "outputs": [
    {
     "name": "stdout",
     "output_type": "stream",
     "text": [
      "[7 4]\n"
     ]
    }
   ],
   "source": [
    "index_arr=a1[[1,1],[2,1]]\n",
    "print(index_arr)\n"
   ]
  },
  {
   "cell_type": "code",
   "execution_count": 16,
   "id": "f82f5219-5d36-4004-ad90-f6b9a41585e2",
   "metadata": {},
   "outputs": [
    {
     "name": "stdout",
     "output_type": "stream",
     "text": [
      "32\n"
     ]
    }
   ],
   "source": [
    "print(a1.sum())"
   ]
  },
  {
   "cell_type": "code",
   "execution_count": 20,
   "id": "3601d0f6-0dd0-428f-95c5-9d3ed29625a9",
   "metadata": {},
   "outputs": [
    {
     "name": "stdout",
     "output_type": "stream",
     "text": [
      "214\n"
     ]
    }
   ],
   "source": [
    "arr=np.array([[25,64],[89,36]])\n",
    "print(arr.sum())"
   ]
  },
  {
   "cell_type": "code",
   "execution_count": 21,
   "id": "a1f014fa-7da5-4201-b0fd-9a30ece6e740",
   "metadata": {},
   "outputs": [
    {
     "name": "stdout",
     "output_type": "stream",
     "text": [
      "[[5.         8.        ]\n",
      " [9.43398113 6.        ]]\n"
     ]
    }
   ],
   "source": [
    "print(np.sqrt(arr))"
   ]
  },
  {
   "cell_type": "code",
   "execution_count": 23,
   "id": "778625cc-0d51-4024-985f-6792178141a9",
   "metadata": {},
   "outputs": [
    {
     "name": "stdout",
     "output_type": "stream",
     "text": [
      "[[25 89]\n",
      " [64 36]]\n"
     ]
    }
   ],
   "source": [
    "print(arr.T)"
   ]
  },
  {
   "cell_type": "code",
   "execution_count": 27,
   "id": "b76056ee-cb33-4b3f-ba07-5f4aea0dfd37",
   "metadata": {},
   "outputs": [
    {
     "name": "stdout",
     "output_type": "stream",
     "text": [
      "[[31 36]\n",
      " [55 64]]\n"
     ]
    }
   ],
   "source": [
    "b1=np.array([[2,3],[4,5]])\n",
    "b2=np.array([[5,6],[7,8]])\n",
    "matrix_multi=np.dot(b1,b2)\n",
    "print(matrix_multi)"
   ]
  },
  {
   "cell_type": "code",
   "execution_count": 34,
   "id": "299e5567-47f9-45d0-a7e1-2907d54df957",
   "metadata": {},
   "outputs": [
    {
     "name": "stdout",
     "output_type": "stream",
     "text": [
      "all() with axis none False\n",
      "all() with axis 0 [False  True]\n"
     ]
    }
   ],
   "source": [
    "bool=np.array([[True,True],[False,True]])\n",
    "print(\"all() with axis none\",np.all(bool))\n",
    "print(\"all() with axis 0\",np.all(bool,axis=0))#any()\n"
   ]
  },
  {
   "cell_type": "code",
   "execution_count": 38,
   "id": "23951817-9a36-458b-aef2-c047e278d9ce",
   "metadata": {},
   "outputs": [
    {
     "name": "stdout",
     "output_type": "stream",
     "text": [
      "[0 1 2 3 4 5 6 7 8]\n",
      "[[0 1 2]\n",
      " [3 4 5]\n",
      " [6 7 8]]\n"
     ]
    }
   ],
   "source": [
    "temp=np.arange(9)\n",
    "print(temp)\n",
    "re=temp.reshape(3,3)\n",
    "print(re)"
   ]
  },
  {
   "cell_type": "code",
   "execution_count": 49,
   "id": "6f221140-d001-44c2-bb7a-8bdee621178f",
   "metadata": {},
   "outputs": [
    {
     "name": "stdout",
     "output_type": "stream",
     "text": [
      "[[0 1]\n",
      " [3 4]\n",
      " [6 7]]\n"
     ]
    }
   ],
   "source": [
    "print(np.take(re,[0,1],axis=1))"
   ]
  },
  {
   "cell_type": "code",
   "execution_count": 52,
   "id": "2bc16ec8-8c01-4249-be8e-5033afc6eb25",
   "metadata": {},
   "outputs": [
    {
     "name": "stdout",
     "output_type": "stream",
     "text": [
      "vstack: [[12 23]\n",
      " [23 34]\n",
      " [56 67]\n",
      " [78 89]\n",
      " [32 43]\n",
      " [54 65]]\n",
      "hstack: [[12 23 56 67 32 43]\n",
      " [23 34 78 89 54 65]]\n"
     ]
    }
   ],
   "source": [
    "x=np.array([[12,23],[23,34]])\n",
    "y=np.array([[56,67],[78,89]])\n",
    "z=np.array([[32,43],[54,65]])\n",
    "v=np.vstack((x,y,z))\n",
    "h=np.hstack((x,y,z))\n",
    "\n",
    "print(\"vstack:\",v)\n",
    "print(\"hstack:\",h)"
   ]
  },
  {
   "cell_type": "code",
   "execution_count": 54,
   "id": "6f2fd07a-b86c-4e93-83a0-18383eaf5e53",
   "metadata": {},
   "outputs": [
    {
     "name": "stdout",
     "output_type": "stream",
     "text": [
      "split: [array([[12, 23],\n",
      "       [23, 34]]), array([[56, 67],\n",
      "       [78, 89]]), array([[32, 43],\n",
      "       [54, 65]])]\n",
      "vsplit: [array([[12, 23, 56, 67, 32, 43]]), array([[23, 34, 78, 89, 54, 65]])]\n"
     ]
    }
   ],
   "source": [
    "h_split=np.hsplit(h,3)\n",
    "print(\"split:\",split)\n",
    "v_split=np.vsplit(h,2)\n",
    "print(\"vsplit:\",v_split)"
   ]
  },
  {
   "cell_type": "code",
   "execution_count": 55,
   "id": "6f2adf7b-993b-4f9c-a152-59759597ebf4",
   "metadata": {},
   "outputs": [
    {
     "name": "stdout",
     "output_type": "stream",
     "text": [
      "Sqrt:  [4.79583152 5.83095189 6.70820393 8.18535277]\n",
      "Exp:  [9.74480345e+09 5.83461743e+14 3.49342711e+19 1.25236317e+29]\n",
      "Sin:  [-0.8462204   0.52908269  0.85090352 -0.85551998]\n",
      "Cos:  [-0.53283302 -0.84857027  0.52532199 -0.5177698 ]\n",
      "Log:  [3.13549422 3.52636052 3.80666249 4.20469262]\n",
      "Sum:  169\n",
      "Std:  16.269219403523945\n"
     ]
    }
   ],
   "source": [
    "arr=np.array([23,34,45,67])\n",
    "print(\"Sqrt: \",np.sqrt(arr))#Returns the square root of each element \n",
    "print(\"Exp: \",np.exp(arr))     #Returns the exponentials of each element\n",
    "print(\"Sin: \",np.sin(arr))     #Returns the sin of each element\n",
    "print(\"Cos: \",np.cos(arr))     #Returns the cosine of each element\n",
    "print(\"Log: \",np.log(arr))     #Returns the logarithm of each element\n",
    "print(\"Sum: \",np.sum(arr))     #Returns the sum total of elements in the array\n",
    "print(\"Std: \",np.std(arr))     #Returns the standard deviation of in the array"
   ]
  },
  {
   "cell_type": "code",
   "execution_count": 56,
   "id": "73cec1b7-3b75-42b2-945c-862a037733f8",
   "metadata": {},
   "outputs": [
    {
     "name": "stdout",
     "output_type": "stream",
     "text": [
      "random: [0.75000255 0.30506944 0.54549621 0.17886853 0.66273098 0.9848601\n",
      " 0.25906072 0.89953354 0.58271799 0.52005519 0.76385927 0.15353349\n",
      " 0.25997079 0.40742641 0.74704434 0.13700975 0.56253971 0.46360888\n",
      " 0.34015641 0.97700372]\n",
      "\n",
      "rand: [[0.73323318 0.28554358 0.87017163 0.41384209]\n",
      " [0.69557188 0.33574807 0.29475836 0.58715463]\n",
      " [0.79983732 0.56497802 0.47168692 0.24064127]]\n",
      "\n",
      "randint: [88 97 33 36 56 42 32 89 10 84 88 93 37 77 95 88 72 10 47 47]\n",
      "\n",
      "permutation: [10 13  1  3  6 18 15 14 19  4  9 17  8 16 12  2  5  0  7 11]\n",
      "\n"
     ]
    }
   ],
   "source": [
    "print(\"random: {}\\n\".format(np.random.random(20)));\n",
    "\n",
    "print(\"rand: {}\\n\".format(np.random.rand(3, 4)));\n",
    "\n",
    "print(\"randint: {}\\n\".format(np.random.randint(0, 100, 20)));\n",
    "\n",
    "print(\"permutation: {}\\n\".format(np.random.permutation(np.arange(20))));\n"
   ]
  },
  {
   "cell_type": "code",
   "execution_count": null,
   "id": "0b80f9c8",
   "metadata": {},
   "outputs": [],
   "source": []
  }
 ],
 "metadata": {
  "kernelspec": {
   "display_name": "Python 3",
   "language": "python",
   "name": "python3"
  },
  "language_info": {
   "codemirror_mode": {
    "name": "ipython",
    "version": 3
   },
   "file_extension": ".py",
   "mimetype": "text/x-python",
   "name": "python",
   "nbconvert_exporter": "python",
   "pygments_lexer": "ipython3",
   "version": "3.13.0"
  }
 },
 "nbformat": 4,
 "nbformat_minor": 5
}
